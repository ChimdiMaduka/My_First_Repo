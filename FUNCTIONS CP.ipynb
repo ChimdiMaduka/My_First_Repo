{
 "cells": [
  {
   "cell_type": "code",
   "execution_count": 1,
   "id": "8dfa2e53",
   "metadata": {},
   "outputs": [
    {
     "name": "stdout",
     "output_type": "stream",
     "text": [
      "The result is: 79.0\n",
      "Thanks for using the calculator!\n"
     ]
    }
   ],
   "source": [
    "def calculator(num1, num2):\n",
    "    operator = input(\"Enter the operator (+, -, *, /): \")\n",
    "\n",
    "    if operator == '+':\n",
    "        return num1 + num2\n",
    "    elif operator == '-':\n",
    "        return num1 - num2\n",
    "    elif operator == '*':\n",
    "        return num1 * num2\n",
    "    elif operator == '/':\n",
    "        if num2 == 0:\n",
    "            return \"Error: Division by zero is not allowed.\"\n",
    "        else:\n",
    "            return num1 / num2\n",
    "    else:\n",
    "        return \"Invalid operator. Please use +, -, *, or /.\"\n",
    "\n",
    "while True:\n",
    "    try:\n",
    "        num1 = float(input(\"Enter the first number: \"))\n",
    "        num2 = float(input(\"Enter the second number: \"))\n",
    "        \n",
    "        result = calculator(num1, num2)\n",
    "        print(\"The result is:\", result)\n",
    "    except ValueError:\n",
    "        print(\"Invalid input. Please enter numeric values.\")\n",
    "\n",
    "    again = input(\"Do you want to perform another calculation? (yes/no): \").strip().lower()\n",
    "    if again != 'yes':\n",
    "        print(\"Thanks for using the calculator!\")\n",
    "        break\n"
   ]
  },
  {
   "cell_type": "code",
   "execution_count": null,
   "id": "45aec72f",
   "metadata": {},
   "outputs": [],
   "source": []
  }
 ],
 "metadata": {
  "kernelspec": {
   "display_name": "Python 3",
   "language": "python",
   "name": "python3"
  },
  "language_info": {
   "codemirror_mode": {
    "name": "ipython",
    "version": 3
   },
   "file_extension": ".py",
   "mimetype": "text/x-python",
   "name": "python",
   "nbconvert_exporter": "python",
   "pygments_lexer": "ipython3",
   "version": "3.11.9"
  }
 },
 "nbformat": 4,
 "nbformat_minor": 5
}
