{
 "cells": [
  {
   "cell_type": "code",
   "execution_count": 4,
   "id": "5763ad3a",
   "metadata": {},
   "outputs": [],
   "source": [
    "import numpy as np"
   ]
  },
  {
   "cell_type": "code",
   "execution_count": 5,
   "id": "14d275ea",
   "metadata": {},
   "outputs": [],
   "source": [
    "grades = np.array([85, 90, 88, 92, 95, 80, 75, 98, 89, 83])"
   ]
  },
  {
   "cell_type": "code",
   "execution_count": 6,
   "id": "356542fb",
   "metadata": {},
   "outputs": [],
   "source": [
    "mean_grade = np.mean(grades)\n",
    "median_grade = np.median(grades)\n",
    "std_dev = np.std(grades)"
   ]
  },
  {
   "cell_type": "code",
   "execution_count": 7,
   "id": "0d7efdcb",
   "metadata": {},
   "outputs": [],
   "source": [
    "max_grade = np.max(grades)\n",
    "min_grade = np.min(grades)"
   ]
  },
  {
   "cell_type": "code",
   "execution_count": 8,
   "id": "ae3a8703",
   "metadata": {},
   "outputs": [],
   "source": [
    "sorted_grades = np.sort(grades)"
   ]
  },
  {
   "cell_type": "code",
   "execution_count": 9,
   "id": "3ea8ccec",
   "metadata": {},
   "outputs": [],
   "source": [
    "index_max_grade = np.argmax(grades)"
   ]
  },
  {
   "cell_type": "code",
   "execution_count": 10,
   "id": "f8846475",
   "metadata": {},
   "outputs": [],
   "source": [
    "count_above_90 = np.sum(grades > 90)"
   ]
  },
  {
   "cell_type": "code",
   "execution_count": 11,
   "id": "aa068d35",
   "metadata": {},
   "outputs": [],
   "source": [
    "percent_above_90 = np.mean(grades > 90) * 100"
   ]
  },
  {
   "cell_type": "code",
   "execution_count": 12,
   "id": "6d32ff7e",
   "metadata": {},
   "outputs": [],
   "source": [
    "percent_below_75 = np.mean(grades < 75) * 100\n"
   ]
  },
  {
   "cell_type": "code",
   "execution_count": 13,
   "id": "f52358e4",
   "metadata": {},
   "outputs": [],
   "source": [
    "high_performers = grades[grades > 90]"
   ]
  },
  {
   "cell_type": "code",
   "execution_count": 14,
   "id": "1a0cce05",
   "metadata": {},
   "outputs": [],
   "source": [
    "passing_grades = grades[grades > 75]"
   ]
  },
  {
   "cell_type": "code",
   "execution_count": 15,
   "id": "ccd2fa3b",
   "metadata": {},
   "outputs": [
    {
     "name": "stdout",
     "output_type": "stream",
     "text": [
      "Grades array: [85 90 88 92 95 80 75 98 89 83]\n",
      "Mean grade: 87.5\n",
      "Median grade: 88.5\n",
      "Standard deviation: 6.591661399070799\n",
      "Maximum grade: 98\n",
      "Minimum grade: 75\n",
      "Sorted grades: [75 80 83 85 88 89 90 92 95 98]\n",
      "Index of highest grade: 7\n",
      "Number of students scoring above 90: 3\n",
      "Percentage of students scoring above 90: 30.0%\n",
      "Percentage of students scoring below 75: 0.0%\n",
      "Grades above 90 (high performers): [92 95 98]\n",
      "Grades above 75 (passing grades): [85 90 88 92 95 80 98 89 83]\n"
     ]
    }
   ],
   "source": [
    "print(f\"Grades array: {grades}\")\n",
    "print(f\"Mean grade: {mean_grade}\")\n",
    "print(f\"Median grade: {median_grade}\")\n",
    "print(f\"Standard deviation: {std_dev}\")\n",
    "print(f\"Maximum grade: {max_grade}\")\n",
    "print(f\"Minimum grade: {min_grade}\")\n",
    "print(f\"Sorted grades: {sorted_grades}\")\n",
    "print(f\"Index of highest grade: {index_max_grade}\")\n",
    "print(f\"Number of students scoring above 90: {count_above_90}\")\n",
    "print(f\"Percentage of students scoring above 90: {percent_above_90}%\")\n",
    "print(f\"Percentage of students scoring below 75: {percent_below_75}%\")\n",
    "print(f\"Grades above 90 (high performers): {high_performers}\")\n",
    "print(f\"Grades above 75 (passing grades): {passing_grades}\")"
   ]
  }
 ],
 "metadata": {
  "kernelspec": {
   "display_name": "Python 3",
   "language": "python",
   "name": "python3"
  },
  "language_info": {
   "codemirror_mode": {
    "name": "ipython",
    "version": 3
   },
   "file_extension": ".py",
   "mimetype": "text/x-python",
   "name": "python",
   "nbconvert_exporter": "python",
   "pygments_lexer": "ipython3",
   "version": "3.11.9"
  }
 },
 "nbformat": 4,
 "nbformat_minor": 5
}
