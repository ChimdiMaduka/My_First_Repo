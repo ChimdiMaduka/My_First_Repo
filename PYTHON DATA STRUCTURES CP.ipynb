{
 "cells": [
  {
   "cell_type": "code",
   "execution_count": 1,
   "id": "5c91e360",
   "metadata": {},
   "outputs": [
    {
     "name": "stdout",
     "output_type": "stream",
     "text": [
      "Result = 36\n"
     ]
    }
   ],
   "source": [
    "##1.\n",
    "from functools import reduce\n",
    "\n",
    "sample_list = [2, 3, 6]\n",
    "result = reduce(lambda x, y: x * y, sample_list)\n",
    "print(\"Result =\", result) "
   ]
  },
  {
   "cell_type": "code",
   "execution_count": 2,
   "id": "fa79d301",
   "metadata": {},
   "outputs": [
    {
     "name": "stdout",
     "output_type": "stream",
     "text": [
      "Sorted list: [(2, 1), (1, 2), (2, 3), (4, 4), (2, 5)]\n"
     ]
    }
   ],
   "source": [
    "##2.\n",
    "sample_list = [(2, 5), (1, 2), (4, 4), (2, 3), (2, 1)]\n",
    "sorted_list = sorted(sample_list, key=lambda x: x[-1])\n",
    "print(\"Sorted list:\", sorted_list)"
   ]
  },
  {
   "cell_type": "code",
   "execution_count": 3,
   "id": "34806272",
   "metadata": {},
   "outputs": [
    {
     "name": "stdout",
     "output_type": "stream",
     "text": [
      "Combined dictionary: {'a': 400, 'b': 400, 'c': 300, 'd': 400}\n"
     ]
    }
   ],
   "source": [
    "##3.\n",
    "d1 = {'a': 100, 'b': 200, 'c': 300}\n",
    "d2 = {'a': 300, 'b': 200, 'd': 400}\n",
    "\n",
    "result = d1.copy()\n",
    "for key, value in d2.items():\n",
    "    result[key] = result.get(key, 0) + value\n",
    "\n",
    "print(\"Combined dictionary:\", result)"
   ]
  },
  {
   "cell_type": "code",
   "execution_count": 4,
   "id": "c39d4b0e",
   "metadata": {},
   "outputs": [
    {
     "name": "stdout",
     "output_type": "stream",
     "text": [
      "Squares dictionary: {1: 1, 2: 4, 3: 9, 4: 16, 5: 25, 6: 36, 7: 49, 8: 64}\n"
     ]
    }
   ],
   "source": [
    "##4.\n",
    "n = 8\n",
    "squares = {i: i * i for i in range(1, n + 1)}\n",
    "print(\"Squares dictionary:\", squares)"
   ]
  },
  {
   "cell_type": "code",
   "execution_count": 5,
   "id": "6fee3718",
   "metadata": {},
   "outputs": [
    {
     "name": "stdout",
     "output_type": "stream",
     "text": [
      "Sorted tuple list: [('item3', '24.5'), ('item2', '15.10'), ('item1', '12.20')]\n"
     ]
    }
   ],
   "source": [
    "##5.\n",
    "items = [('item1', '12.20'), ('item2', '15.10'), ('item3', '24.5')]\n",
    "sorted_items = sorted(items, key=lambda x: float(x[1]), reverse=True)\n",
    "print(\"Sorted tuple list:\", sorted_items)\n"
   ]
  },
  {
   "cell_type": "code",
   "execution_count": 6,
   "id": "03868cb5",
   "metadata": {},
   "outputs": [
    {
     "name": "stdout",
     "output_type": "stream",
     "text": [
      "Created set: {0, 1, 2, 3, 4}\n"
     ]
    }
   ],
   "source": [
    "##6.\n",
    "my_set = {0, 1, 2, 3, 4}\n",
    "print(\"Created set:\", my_set)"
   ]
  },
  {
   "cell_type": "code",
   "execution_count": 7,
   "id": "30bbe9ae",
   "metadata": {},
   "outputs": [
    {
     "name": "stdout",
     "output_type": "stream",
     "text": [
      "Set item: 0\n",
      "Set item: 1\n",
      "Set item: 2\n",
      "Set item: 3\n",
      "Set item: 4\n"
     ]
    }
   ],
   "source": [
    "for item in my_set:\n",
    "    print(\"Set item:\", item)"
   ]
  },
  {
   "cell_type": "code",
   "execution_count": 9,
   "id": "2fba7719",
   "metadata": {},
   "outputs": [
    {
     "name": "stdout",
     "output_type": "stream",
     "text": [
      "After adding 5: {0, 1, 3, 4, 5}\n"
     ]
    }
   ],
   "source": [
    "my_set.add(5)\n",
    "print(\"After adding 5:\", my_set)"
   ]
  },
  {
   "cell_type": "code",
   "execution_count": 10,
   "id": "02d04364",
   "metadata": {},
   "outputs": [
    {
     "name": "stdout",
     "output_type": "stream",
     "text": [
      "After discarding 2: {0, 1, 3, 4, 5}\n"
     ]
    }
   ],
   "source": [
    "my_set.discard(2) \n",
    "print(\"After discarding 2:\", my_set)"
   ]
  },
  {
   "cell_type": "code",
   "execution_count": null,
   "id": "6e80526b",
   "metadata": {},
   "outputs": [],
   "source": []
  }
 ],
 "metadata": {
  "kernelspec": {
   "display_name": "Python 3",
   "language": "python",
   "name": "python3"
  },
  "language_info": {
   "codemirror_mode": {
    "name": "ipython",
    "version": 3
   },
   "file_extension": ".py",
   "mimetype": "text/x-python",
   "name": "python",
   "nbconvert_exporter": "python",
   "pygments_lexer": "ipython3",
   "version": "3.11.9"
  }
 },
 "nbformat": 4,
 "nbformat_minor": 5
}
