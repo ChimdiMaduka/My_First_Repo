{
 "cells": [
  {
   "cell_type": "code",
   "execution_count": 1,
   "id": "8f5d8440",
   "metadata": {},
   "outputs": [],
   "source": [
    "class Account:\n",
    "    def __init__(self, account_number: str, account_holder: str, account_balance: float = 0.0):\n",
    "        self.account_number = account_number\n",
    "        self.account_holder = account_holder\n",
    "        self.account_balance = account_balance\n",
    "\n",
    "    def deposit(self, amount: float):\n",
    "        if amount > 0:\n",
    "            self.account_balance += amount\n",
    "            print(f\"Deposited ${amount:.2f}. New balance: ${self.account_balance:.2f}\")\n",
    "        else:\n",
    "            print(\"Deposit amount must be positive.\")\n",
    "\n",
    "    def withdraw(self, amount: float):\n",
    "        if amount <= 0:\n",
    "            print(\"Withdrawal amount must be positive.\")\n",
    "        elif self.account_balance >= amount:\n",
    "            self.account_balance -= amount\n",
    "            print(f\"Withdrew ${amount:.2f}. New balance: ${self.account_balance:.2f}\")\n",
    "        else:\n",
    "            print(\"Insufficient funds for withdrawal.\")\n",
    "\n",
    "    def check_balance(self):\n",
    "        return self.account_balance\n"
   ]
  },
  {
   "cell_type": "code",
   "execution_count": 2,
   "id": "b6990656",
   "metadata": {},
   "outputs": [],
   "source": [
    "my_account = Account(\"123456789\", \"Alice\")"
   ]
  },
  {
   "cell_type": "code",
   "execution_count": 3,
   "id": "34ffad44",
   "metadata": {},
   "outputs": [
    {
     "name": "stdout",
     "output_type": "stream",
     "text": [
      "Deposited $1000.00. New balance: $1000.00\n"
     ]
    }
   ],
   "source": [
    "my_account.deposit(1000)"
   ]
  },
  {
   "cell_type": "code",
   "execution_count": 4,
   "id": "c6dd7f68",
   "metadata": {},
   "outputs": [
    {
     "name": "stdout",
     "output_type": "stream",
     "text": [
      "Withdrew $250.00. New balance: $750.00\n"
     ]
    }
   ],
   "source": [
    "my_account.withdraw(250)"
   ]
  },
  {
   "cell_type": "code",
   "execution_count": 5,
   "id": "41bb1c1e",
   "metadata": {},
   "outputs": [
    {
     "name": "stdout",
     "output_type": "stream",
     "text": [
      "Current balance: $750.00\n"
     ]
    }
   ],
   "source": [
    "print(f\"Current balance: ${my_account.check_balance():.2f}\")"
   ]
  },
  {
   "cell_type": "code",
   "execution_count": 7,
   "id": "b97dd96b",
   "metadata": {},
   "outputs": [
    {
     "name": "stdout",
     "output_type": "stream",
     "text": [
      "Insufficient funds for withdrawal.\n"
     ]
    }
   ],
   "source": [
    "second_account = Account(\"987654321\", \"Bob\", 500)\n",
    "second_account.withdraw(600)"
   ]
  },
  {
   "cell_type": "code",
   "execution_count": 8,
   "id": "6c2cf66d",
   "metadata": {},
   "outputs": [
    {
     "name": "stdout",
     "output_type": "stream",
     "text": [
      "Deposited $300.00. New balance: $800.00\n",
      "Bob's balance: $800.00\n"
     ]
    }
   ],
   "source": [
    "second_account.deposit(300)\n",
    "print(f\"Bob's balance: ${second_account.check_balance():.2f}\")"
   ]
  },
  {
   "cell_type": "code",
   "execution_count": null,
   "id": "90a7ca7e",
   "metadata": {},
   "outputs": [],
   "source": []
  }
 ],
 "metadata": {
  "kernelspec": {
   "display_name": "Python 3",
   "language": "python",
   "name": "python3"
  },
  "language_info": {
   "codemirror_mode": {
    "name": "ipython",
    "version": 3
   },
   "file_extension": ".py",
   "mimetype": "text/x-python",
   "name": "python",
   "nbconvert_exporter": "python",
   "pygments_lexer": "ipython3",
   "version": "3.11.9"
  }
 },
 "nbformat": 4,
 "nbformat_minor": 5
}
