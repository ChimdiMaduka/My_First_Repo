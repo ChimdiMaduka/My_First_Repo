{
 "cells": [
  {
   "cell_type": "code",
   "execution_count": 1,
   "id": "53b3a6fd",
   "metadata": {},
   "outputs": [],
   "source": [
    "import numpy as np"
   ]
  },
  {
   "cell_type": "code",
   "execution_count": 8,
   "id": "c045459c",
   "metadata": {},
   "outputs": [],
   "source": [
    "file = open(r\"C:\\Users\\Maduka\\Downloads\\loan_data.csv.csv\")"
   ]
  },
  {
   "cell_type": "code",
   "execution_count": 9,
   "id": "5396e9fe",
   "metadata": {},
   "outputs": [],
   "source": [
    "data = np.genfromtxt(file, delimiter=',', skip_header=1)  "
   ]
  },
  {
   "cell_type": "code",
   "execution_count": 10,
   "id": "f15f7fec",
   "metadata": {},
   "outputs": [],
   "source": [
    "file.close()"
   ]
  },
  {
   "cell_type": "code",
   "execution_count": 11,
   "id": "8814de63",
   "metadata": {},
   "outputs": [],
   "source": [
    "loan_amounts = data[:, 4] "
   ]
  },
  {
   "cell_type": "code",
   "execution_count": 12,
   "id": "f8237319",
   "metadata": {},
   "outputs": [],
   "source": [
    "mean_loan = np.mean(loan_amounts)\n",
    "median_loan = np.median(loan_amounts)\n",
    "std_loan = np.std(loan_amounts)"
   ]
  },
  {
   "cell_type": "code",
   "execution_count": 13,
   "id": "8ec1de5d",
   "metadata": {},
   "outputs": [
    {
     "name": "stdout",
     "output_type": "stream",
     "text": [
      "Mean loan amount: nan\n",
      "Median loan amount: nan\n",
      "Standard deviation of loan amounts: nan\n"
     ]
    }
   ],
   "source": [
    "print(f\"Mean loan amount: {mean_loan}\")\n",
    "print(f\"Median loan amount: {median_loan}\")\n",
    "print(f\"Standard deviation of loan amounts: {std_loan}\")"
   ]
  }
 ],
 "metadata": {
  "kernelspec": {
   "display_name": "Python 3",
   "language": "python",
   "name": "python3"
  },
  "language_info": {
   "codemirror_mode": {
    "name": "ipython",
    "version": 3
   },
   "file_extension": ".py",
   "mimetype": "text/x-python",
   "name": "python",
   "nbconvert_exporter": "python",
   "pygments_lexer": "ipython3",
   "version": "3.11.9"
  }
 },
 "nbformat": 4,
 "nbformat_minor": 5
}
